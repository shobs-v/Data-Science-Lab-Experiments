{
 "cells": [
  {
   "cell_type": "markdown",
   "id": "8e9fe155",
   "metadata": {
    "papermill": {
     "duration": 0.016739,
     "end_time": "2022-04-28T06:13:11.606670",
     "exception": false,
     "start_time": "2022-04-28T06:13:11.589931",
     "status": "completed"
    },
    "tags": []
   },
   "source": [
    "Name: Shobhit Verma<br>\n",
    "Class: BE COMPS<br>\n",
    "Batch: D<br>\n",
    "Roll No: 33<br>\n",
    "UID: 2018130062<br>\n",
    "\n",
    "# Experiment - 4"
   ]
  },
  {
   "cell_type": "code",
   "execution_count": 1,
   "id": "fbfe849d",
   "metadata": {
    "_cell_guid": "63fc12f5-ae10-4020-98d7-050289dbffdf",
    "_uuid": "c8a8eecc143328d8923dda5902238bc2d3bb921e",
    "execution": {
     "iopub.execute_input": "2022-04-28T06:13:11.648136Z",
     "iopub.status.busy": "2022-04-28T06:13:11.641651Z",
     "iopub.status.idle": "2022-04-28T06:13:12.248963Z",
     "shell.execute_reply": "2022-04-28T06:13:12.248326Z",
     "shell.execute_reply.started": "2022-04-28T06:10:07.543490Z"
    },
    "papermill": {
     "duration": 0.626264,
     "end_time": "2022-04-28T06:13:12.249126",
     "exception": false,
     "start_time": "2022-04-28T06:13:11.622862",
     "status": "completed"
    },
    "tags": []
   },
   "outputs": [
    {
     "name": "stderr",
     "output_type": "stream",
     "text": [
      "/opt/conda/lib/python3.7/site-packages/IPython/core/interactiveshell.py:3457: DtypeWarning: Columns (1,2,3,4,6,12,17) have mixed types.Specify dtype option on import or set low_memory=False.\n",
      "  exec(code_obj, self.user_global_ns, self.user_ns)\n"
     ]
    },
    {
     "data": {
      "text/html": [
       "<div>\n",
       "<style scoped>\n",
       "    .dataframe tbody tr th:only-of-type {\n",
       "        vertical-align: middle;\n",
       "    }\n",
       "\n",
       "    .dataframe tbody tr th {\n",
       "        vertical-align: top;\n",
       "    }\n",
       "\n",
       "    .dataframe thead th {\n",
       "        text-align: right;\n",
       "    }\n",
       "</style>\n",
       "<table border=\"1\" class=\"dataframe\">\n",
       "  <thead>\n",
       "    <tr style=\"text-align: right;\">\n",
       "      <th></th>\n",
       "      <th>Lic Regn</th>\n",
       "      <th>Lic Dist</th>\n",
       "      <th>Lic Cnty</th>\n",
       "      <th>Lic Type</th>\n",
       "      <th>Lic Xprdte</th>\n",
       "      <th>Lic Seqn</th>\n",
       "      <th>License Name</th>\n",
       "      <th>Business Name</th>\n",
       "      <th>Premise Street</th>\n",
       "      <th>Premise City</th>\n",
       "      <th>Premise State</th>\n",
       "      <th>Premise Zip Code</th>\n",
       "      <th>Mail Street</th>\n",
       "      <th>Mail City</th>\n",
       "      <th>Mail State</th>\n",
       "      <th>Mail Zip Code</th>\n",
       "      <th>Voice Phone</th>\n",
       "    </tr>\n",
       "  </thead>\n",
       "  <tbody>\n",
       "    <tr>\n",
       "      <th>1</th>\n",
       "      <td>1</td>\n",
       "      <td>66</td>\n",
       "      <td>003</td>\n",
       "      <td>01</td>\n",
       "      <td>7L</td>\n",
       "      <td>00150</td>\n",
       "      <td>SALAZAR-MORET, CHARLES</td>\n",
       "      <td>AGUADA SPORT SHOP &amp; ARMORY</td>\n",
       "      <td>BO ASOMANTE CARR 115 KM 24-5</td>\n",
       "      <td>AGUADA</td>\n",
       "      <td>PR</td>\n",
       "      <td>00602</td>\n",
       "      <td>CALLE COLON #4 SUITE 3</td>\n",
       "      <td>AGUADA</td>\n",
       "      <td>PR</td>\n",
       "      <td>00602</td>\n",
       "      <td>7878686682</td>\n",
       "    </tr>\n",
       "    <tr>\n",
       "      <th>2</th>\n",
       "      <td>1</td>\n",
       "      <td>66</td>\n",
       "      <td>003</td>\n",
       "      <td>01</td>\n",
       "      <td>8F</td>\n",
       "      <td>00258</td>\n",
       "      <td>HERNANDEZ-MUNOZ, GILBERTO</td>\n",
       "      <td>ARMERIA Y ACCESORIOS EL NARANJAL</td>\n",
       "      <td>CARR 411 KM 1.0 BO GUAYABO SECTOR BAJURA</td>\n",
       "      <td>AGUADA</td>\n",
       "      <td>PR</td>\n",
       "      <td>00602</td>\n",
       "      <td>4 REPTO MINERVA</td>\n",
       "      <td>AGUADA</td>\n",
       "      <td>PR</td>\n",
       "      <td>00602</td>\n",
       "      <td>7878680125</td>\n",
       "    </tr>\n",
       "    <tr>\n",
       "      <th>3</th>\n",
       "      <td>1</td>\n",
       "      <td>66</td>\n",
       "      <td>003</td>\n",
       "      <td>08</td>\n",
       "      <td>8H</td>\n",
       "      <td>00285</td>\n",
       "      <td>SALAZAR MORET, CHARLES</td>\n",
       "      <td>AGUADA SPORT SHOP</td>\n",
       "      <td>BO ASOMANTE CARR 115 KM 24-5</td>\n",
       "      <td>AGUADA</td>\n",
       "      <td>PR</td>\n",
       "      <td>00602</td>\n",
       "      <td>CALLE COLON #4 SUITE 3</td>\n",
       "      <td>AGUADA</td>\n",
       "      <td>PR</td>\n",
       "      <td>00602</td>\n",
       "      <td>7878686682</td>\n",
       "    </tr>\n",
       "  </tbody>\n",
       "</table>\n",
       "</div>"
      ],
      "text/plain": [
       "  Lic Regn Lic Dist Lic Cnty Lic Type Lic Xprdte Lic Seqn  \\\n",
       "1        1       66      003       01         7L    00150   \n",
       "2        1       66      003       01         8F    00258   \n",
       "3        1       66      003       08         8H    00285   \n",
       "\n",
       "                License Name                     Business Name  \\\n",
       "1     SALAZAR-MORET, CHARLES        AGUADA SPORT SHOP & ARMORY   \n",
       "2  HERNANDEZ-MUNOZ, GILBERTO  ARMERIA Y ACCESORIOS EL NARANJAL   \n",
       "3     SALAZAR MORET, CHARLES                 AGUADA SPORT SHOP   \n",
       "\n",
       "                             Premise Street Premise City Premise State  \\\n",
       "1              BO ASOMANTE CARR 115 KM 24-5       AGUADA            PR   \n",
       "2  CARR 411 KM 1.0 BO GUAYABO SECTOR BAJURA       AGUADA            PR   \n",
       "3              BO ASOMANTE CARR 115 KM 24-5       AGUADA            PR   \n",
       "\n",
       "  Premise Zip Code             Mail Street Mail City Mail State Mail Zip Code  \\\n",
       "1            00602  CALLE COLON #4 SUITE 3    AGUADA         PR         00602   \n",
       "2            00602         4 REPTO MINERVA    AGUADA         PR         00602   \n",
       "3            00602  CALLE COLON #4 SUITE 3    AGUADA         PR         00602   \n",
       "\n",
       "  Voice Phone  \n",
       "1  7878686682  \n",
       "2  7878680125  \n",
       "3  7878686682  "
      ]
     },
     "execution_count": 1,
     "metadata": {},
     "output_type": "execute_result"
    }
   ],
   "source": [
    "import pandas as pd\n",
    "import numpy as np\n",
    "licensees = pd.read_csv(\"../input/federal-firearm-licensees.csv\", index_col=0)[1:]\n",
    "licensees.head(3)"
   ]
  },
  {
   "cell_type": "code",
   "execution_count": 2,
   "id": "ec9e2187",
   "metadata": {
    "execution": {
     "iopub.execute_input": "2022-04-28T06:13:12.309790Z",
     "iopub.status.busy": "2022-04-28T06:13:12.308775Z",
     "iopub.status.idle": "2022-04-28T06:13:12.884102Z",
     "shell.execute_reply": "2022-04-28T06:13:12.883367Z",
     "shell.execute_reply.started": "2022-04-28T06:10:08.221406Z"
    },
    "papermill": {
     "duration": 0.617799,
     "end_time": "2022-04-28T06:13:12.884261",
     "exception": false,
     "start_time": "2022-04-28T06:13:12.266462",
     "status": "completed"
    },
    "tags": []
   },
   "outputs": [
    {
     "data": {
      "text/html": [
       "<div>\n",
       "<style scoped>\n",
       "    .dataframe tbody tr th:only-of-type {\n",
       "        vertical-align: middle;\n",
       "    }\n",
       "\n",
       "    .dataframe tbody tr th {\n",
       "        vertical-align: top;\n",
       "    }\n",
       "\n",
       "    .dataframe thead th {\n",
       "        text-align: right;\n",
       "    }\n",
       "</style>\n",
       "<table border=\"1\" class=\"dataframe\">\n",
       "  <thead>\n",
       "    <tr style=\"text-align: right;\">\n",
       "      <th></th>\n",
       "      <th>Lic Regn</th>\n",
       "      <th>Lic Dist</th>\n",
       "      <th>Lic Cnty</th>\n",
       "      <th>Lic Type</th>\n",
       "      <th>Lic Xprdte</th>\n",
       "      <th>Lic Seqn</th>\n",
       "      <th>License Name</th>\n",
       "      <th>Business Name</th>\n",
       "      <th>Premise Street</th>\n",
       "      <th>Premise City</th>\n",
       "      <th>Premise State</th>\n",
       "      <th>Premise Zip Code</th>\n",
       "      <th>Mail Street</th>\n",
       "      <th>Mail City</th>\n",
       "      <th>Mail State</th>\n",
       "      <th>Mail Zip Code</th>\n",
       "      <th>Voice Phone</th>\n",
       "    </tr>\n",
       "  </thead>\n",
       "  <tbody>\n",
       "    <tr>\n",
       "      <th>count</th>\n",
       "      <td>80189</td>\n",
       "      <td>80189</td>\n",
       "      <td>80189</td>\n",
       "      <td>80189</td>\n",
       "      <td>80189</td>\n",
       "      <td>80189</td>\n",
       "      <td>80190</td>\n",
       "      <td>52422</td>\n",
       "      <td>80189</td>\n",
       "      <td>80189</td>\n",
       "      <td>80189</td>\n",
       "      <td>80189</td>\n",
       "      <td>80189</td>\n",
       "      <td>80188</td>\n",
       "      <td>80189</td>\n",
       "      <td>80189</td>\n",
       "      <td>8.017700e+04</td>\n",
       "    </tr>\n",
       "    <tr>\n",
       "      <th>unique</th>\n",
       "      <td>8</td>\n",
       "      <td>65</td>\n",
       "      <td>481</td>\n",
       "      <td>16</td>\n",
       "      <td>73</td>\n",
       "      <td>37240</td>\n",
       "      <td>69606</td>\n",
       "      <td>46275</td>\n",
       "      <td>76530</td>\n",
       "      <td>11645</td>\n",
       "      <td>55</td>\n",
       "      <td>29089</td>\n",
       "      <td>65549</td>\n",
       "      <td>11570</td>\n",
       "      <td>55</td>\n",
       "      <td>29471</td>\n",
       "      <td>7.488800e+04</td>\n",
       "    </tr>\n",
       "    <tr>\n",
       "      <th>top</th>\n",
       "      <td>5</td>\n",
       "      <td>59</td>\n",
       "      <td>13</td>\n",
       "      <td>1</td>\n",
       "      <td>0E</td>\n",
       "      <td>4309</td>\n",
       "      <td>WAL-MART STORES EAST LP</td>\n",
       "      <td>EZPAWN</td>\n",
       "      <td>16175 NW 49TH AVE</td>\n",
       "      <td>HOUSTON</td>\n",
       "      <td>TX</td>\n",
       "      <td>59901</td>\n",
       "      <td>508 SW 8TH STREET</td>\n",
       "      <td>BENTONVILLE</td>\n",
       "      <td>TX</td>\n",
       "      <td>727160500</td>\n",
       "      <td>3.105361e+09</td>\n",
       "    </tr>\n",
       "    <tr>\n",
       "      <th>freq</th>\n",
       "      <td>22706</td>\n",
       "      <td>3913</td>\n",
       "      <td>1748</td>\n",
       "      <td>34017</td>\n",
       "      <td>2884</td>\n",
       "      <td>12</td>\n",
       "      <td>1315</td>\n",
       "      <td>240</td>\n",
       "      <td>7</td>\n",
       "      <td>415</td>\n",
       "      <td>7795</td>\n",
       "      <td>58</td>\n",
       "      <td>2161</td>\n",
       "      <td>2321</td>\n",
       "      <td>8227</td>\n",
       "      <td>2215</td>\n",
       "      <td>4.040000e+02</td>\n",
       "    </tr>\n",
       "  </tbody>\n",
       "</table>\n",
       "</div>"
      ],
      "text/plain": [
       "        Lic Regn Lic Dist  Lic Cnty  Lic Type Lic Xprdte  Lic Seqn  \\\n",
       "count      80189    80189     80189     80189      80189     80189   \n",
       "unique         8       65       481        16         73     37240   \n",
       "top            5       59        13         1         0E      4309   \n",
       "freq       22706     3913      1748     34017       2884        12   \n",
       "\n",
       "                   License Name Business Name     Premise Street Premise City  \\\n",
       "count                     80190         52422              80189        80189   \n",
       "unique                    69606         46275              76530        11645   \n",
       "top     WAL-MART STORES EAST LP        EZPAWN  16175 NW 49TH AVE      HOUSTON   \n",
       "freq                       1315           240                  7          415   \n",
       "\n",
       "       Premise State Premise Zip Code        Mail Street    Mail City  \\\n",
       "count          80189            80189              80189        80188   \n",
       "unique            55            29089              65549        11570   \n",
       "top               TX            59901  508 SW 8TH STREET  BENTONVILLE   \n",
       "freq            7795               58               2161         2321   \n",
       "\n",
       "       Mail State Mail Zip Code   Voice Phone  \n",
       "count       80189         80189  8.017700e+04  \n",
       "unique         55         29471  7.488800e+04  \n",
       "top            TX     727160500  3.105361e+09  \n",
       "freq         8227          2215  4.040000e+02  "
      ]
     },
     "execution_count": 2,
     "metadata": {},
     "output_type": "execute_result"
    }
   ],
   "source": [
    "licensees.describe()"
   ]
  },
  {
   "cell_type": "markdown",
   "id": "26c54937",
   "metadata": {
    "_cell_guid": "30993cb3-7698-47e6-8688-84a5b7942d4a",
    "_uuid": "8c660f62bc93b249ae0eb7aa2490b0a21cf35340",
    "papermill": {
     "duration": 0.016861,
     "end_time": "2022-04-28T06:13:12.918185",
     "exception": false,
     "start_time": "2022-04-28T06:13:12.901324",
     "status": "completed"
    },
    "tags": []
   },
   "source": [
    "Suppose we're interested in measuring the mean number of gun sale licensees by county. If we look at this data, here's what we find:"
   ]
  },
  {
   "cell_type": "code",
   "execution_count": 3,
   "id": "c3fa3a8e",
   "metadata": {
    "_cell_guid": "37d32554-fa46-443b-8935-cddd31ac0c8a",
    "_uuid": "5d8fadcdc164efefc545069757b5ec27206bec8e",
    "execution": {
     "iopub.execute_input": "2022-04-28T06:13:12.982278Z",
     "iopub.status.busy": "2022-04-28T06:13:12.981280Z",
     "iopub.status.idle": "2022-04-28T06:13:13.330102Z",
     "shell.execute_reply": "2022-04-28T06:13:13.330714Z",
     "shell.execute_reply.started": "2022-04-28T06:10:08.894746Z"
    },
    "papermill": {
     "duration": 0.395531,
     "end_time": "2022-04-28T06:13:13.330932",
     "exception": false,
     "start_time": "2022-04-28T06:13:12.935401",
     "status": "completed"
    },
    "tags": []
   },
   "outputs": [
    {
     "data": {
      "text/plain": [
       "<AxesSubplot:ylabel='Frequency'>"
      ]
     },
     "execution_count": 3,
     "metadata": {},
     "output_type": "execute_result"
    },
    {
     "data": {
      "image/png": "[encoded data removed]",
      "text/plain": [
       "<Figure size 432x288 with 1 Axes>"
      ]
     },
     "metadata": {},
     "output_type": "display_data"
    }
   ],
   "source": [
    "import matplotlib.pyplot as plt\n",
    "plt.style.use('fivethirtyeight')\n",
    "licensees['Premise Zip Code'].value_counts().plot.hist(bins=50)"
   ]
  },
  {
   "cell_type": "markdown",
   "id": "1df361d1",
   "metadata": {
    "_cell_guid": "29e31de4-b02b-47c4-acc0-455945647a50",
    "_uuid": "6d2dfed74fe25685299fd7e030e87a741bd666a3",
    "papermill": {
     "duration": 0.018646,
     "end_time": "2022-04-28T06:13:13.369324",
     "exception": false,
     "start_time": "2022-04-28T06:13:13.350678",
     "status": "completed"
    },
    "tags": []
   },
   "source": [
    "(note that since I'm excluding counties which do not have *any* firearm stores, this is actually a flawed metric, but it's good enough for the purposes of demonstration!)\n",
    "\n",
    "<!--\n",
    "This chart makes it pretty obvious that the number of gun licensees per country variables wildly between different counties. That is to say, by looking at this histogram, we can conclude that the number of gun shops deviates geographically.\n",
    "\n",
    "But suppose that we want to be more authoritative about this observation. We could pose this as a hypothesis. Our null hypothesis will be that \"Gun shops in the United States are equivalently distributed\", while our alternative hypothesis will be that \"Gun shops in the United States are not equivalently distributed\".\n",
    "-->\n",
    "\n",
    "We'll take the following mean:"
   ]
  },
  {
   "cell_type": "code",
   "execution_count": 4,
   "id": "0fcf7839",
   "metadata": {
    "_cell_guid": "f0621999-7a11-456e-b2bf-3b203707f863",
    "_uuid": "d0d5ddc4a17c049ff6ce7af25ded1e6f5dc761bb",
    "execution": {
     "iopub.execute_input": "2022-04-28T06:13:13.437104Z",
     "iopub.status.busy": "2022-04-28T06:13:13.436132Z",
     "iopub.status.idle": "2022-04-28T06:13:13.444796Z",
     "shell.execute_reply": "2022-04-28T06:13:13.444151Z",
     "shell.execute_reply.started": "2022-04-28T06:10:09.241692Z"
    },
    "papermill": {
     "duration": 0.05686,
     "end_time": "2022-04-28T06:13:13.444959",
     "exception": false,
     "start_time": "2022-04-28T06:13:13.388099",
     "status": "completed"
    },
    "tags": []
   },
   "outputs": [
    {
     "data": {
      "text/plain": [
       "2.7566777819794424"
      ]
     },
     "execution_count": 4,
     "metadata": {},
     "output_type": "execute_result"
    }
   ],
   "source": [
    "licensees['Premise Zip Code'].value_counts().mean()"
   ]
  },
  {
   "cell_type": "markdown",
   "id": "8808e4d5",
   "metadata": {
    "_cell_guid": "cac869ca-3b33-4941-b4d2-f5ac3fbb3c88",
    "_uuid": "edb389731a6e382de17712a34fdc87ee993fd4c2",
    "papermill": {
     "duration": 0.01837,
     "end_time": "2022-04-28T06:13:13.482205",
     "exception": false,
     "start_time": "2022-04-28T06:13:13.463835",
     "status": "completed"
    },
    "tags": []
   },
   "source": [
    "Here are our hypotheses:\n",
    "\n",
    "$$H_0: \\bar{n} = 2.75$$\n",
    "$$H_a: \\bar{n} \\neq 2.75$$\n",
    "\n",
    "Let's set our p-level to 0.05. That is, let's say that we're willing to accept a 5% risk that when we reject the null hypothesis we are wrong.\n",
    "\n",
    "Now we will implement our t-test. Here's a hand implementation first, to see what it looks like. Note that to get the p-value we'll just throw the number at the `scipy` normal distribution built-in because the normal distribution is non-trivial to simulate computationally."
   ]
  },
  {
   "cell_type": "code",
   "execution_count": 5,
   "id": "835e2ee9",
   "metadata": {
    "_cell_guid": "bfdcb9aa-c412-4d1f-9911-9f23c7f41a26",
    "_uuid": "3c60d86f823fb30bed21892132f0aa93585f1868",
    "execution": {
     "iopub.execute_input": "2022-04-28T06:13:13.548161Z",
     "iopub.status.busy": "2022-04-28T06:13:13.547202Z",
     "iopub.status.idle": "2022-04-28T06:13:13.553256Z",
     "shell.execute_reply": "2022-04-28T06:13:13.552491Z",
     "shell.execute_reply.started": "2022-04-28T06:10:09.279585Z"
    },
    "papermill": {
     "duration": 0.052575,
     "end_time": "2022-04-28T06:13:13.553402",
     "exception": false,
     "start_time": "2022-04-28T06:13:13.500827",
     "status": "completed"
    },
    "tags": []
   },
   "outputs": [],
   "source": [
    "X = licensees['Premise Zip Code'].value_counts()"
   ]
  },
  {
   "cell_type": "code",
   "execution_count": 6,
   "id": "0105effe",
   "metadata": {
    "_cell_guid": "34e557db-c32e-47d2-8795-2f25086aa71d",
    "_uuid": "82a35c9729853eb93728b7334b76866d2056cbb8",
    "execution": {
     "iopub.execute_input": "2022-04-28T06:13:13.598931Z",
     "iopub.status.busy": "2022-04-28T06:13:13.598252Z",
     "iopub.status.idle": "2022-04-28T06:13:14.521180Z",
     "shell.execute_reply": "2022-04-28T06:13:14.521778Z",
     "shell.execute_reply.started": "2022-04-28T06:10:09.313428Z"
    },
    "papermill": {
     "duration": 0.949087,
     "end_time": "2022-04-28T06:13:14.521958",
     "exception": false,
     "start_time": "2022-04-28T06:13:13.572871",
     "status": "completed"
    },
    "tags": []
   },
   "outputs": [],
   "source": [
    "import numpy as np\n",
    "import scipy.stats as stats\n",
    "\n",
    "def t_value(X, h_0):\n",
    "    se = np.sqrt(np.var(X) / len(X))\n",
    "    return (np.mean(X) - h_0) / se\n",
    "\n",
    "def p_value(t):\n",
    "    # Two-sided p-value, so we multiply by 2.\n",
    "    return stats.norm.sf(abs(t))*2\n",
    "\n",
    "t = t_value(X, 2.75)\n",
    "p = p_value(t)"
   ]
  },
  {
   "cell_type": "code",
   "execution_count": 7,
   "id": "4a9391cb",
   "metadata": {
    "_cell_guid": "a03cf625-a18b-4bb6-b284-d24577a9b9c0",
    "_uuid": "46047dd0d7c0d34ff84bea5ccf627674c66b21b9",
    "execution": {
     "iopub.execute_input": "2022-04-28T06:13:14.567015Z",
     "iopub.status.busy": "2022-04-28T06:13:14.566120Z",
     "iopub.status.idle": "2022-04-28T06:13:14.569447Z",
     "shell.execute_reply": "2022-04-28T06:13:14.569950Z",
     "shell.execute_reply.started": "2022-04-28T06:10:10.263321Z"
    },
    "papermill": {
     "duration": 0.027422,
     "end_time": "2022-04-28T06:13:14.570113",
     "exception": false,
     "start_time": "2022-04-28T06:13:14.542691",
     "status": "completed"
    },
    "tags": []
   },
   "outputs": [
    {
     "data": {
      "text/plain": [
       "(0.3602713469802255, 0.7186442244499638)"
      ]
     },
     "execution_count": 7,
     "metadata": {},
     "output_type": "execute_result"
    }
   ],
   "source": [
    "t, p"
   ]
  },
  {
   "cell_type": "markdown",
   "id": "cd1164cb",
   "metadata": {
    "_cell_guid": "fc587c7a-e2a5-4982-b072-614c1adb5e46",
    "_uuid": "47564776a238ff50d6adbb8505a22a47c811a5ca",
    "papermill": {
     "duration": 0.018742,
     "end_time": "2022-04-28T06:13:14.607707",
     "exception": false,
     "start_time": "2022-04-28T06:13:14.588965",
     "status": "completed"
    },
    "tags": []
   },
   "source": [
    "The $t$ score tells us that our result is 0.36 standard deviations away from the average mean estimator result we can expect. 0.36 standard deviations is not a lot at all though! Our $p$ value tells us that almost 72% of possible mean estimate values are further away from our expectation than the value that we got.\n",
    "\n",
    "In other words, a mean value of 2.75 is in the 72nd percentile of closeness.\n",
    "\n",
    "Since $0.72 > 0.05$, we fail to reject the null hypothesis $H_0$. We conclude that there is strong evidence that $\\bar{n} = 2.75$&mdash;that is, that the mean number of gun shops per US Zip Code is almost 3!\n",
    "\n",
    "For reference, here is the usual way of performing this test using `scipy`:"
   ]
  },
  {
   "cell_type": "code",
   "execution_count": 8,
   "id": "2a028eb6",
   "metadata": {
    "_cell_guid": "6d020955-739e-429f-80da-4422231808dc",
    "_uuid": "717dd2e2c4b18d938b6dec0e3a32f1e9f2540d9e",
    "execution": {
     "iopub.execute_input": "2022-04-28T06:13:14.649414Z",
     "iopub.status.busy": "2022-04-28T06:13:14.648428Z",
     "iopub.status.idle": "2022-04-28T06:13:14.656465Z",
     "shell.execute_reply": "2022-04-28T06:13:14.656936Z",
     "shell.execute_reply.started": "2022-04-28T06:10:10.272177Z"
    },
    "papermill": {
     "duration": 0.030434,
     "end_time": "2022-04-28T06:13:14.657107",
     "exception": false,
     "start_time": "2022-04-28T06:13:14.626673",
     "status": "completed"
    },
    "tags": []
   },
   "outputs": [
    {
     "data": {
      "text/plain": [
       "Ttest_1sampResult(statistic=0.36026515435690487, pvalue=0.718651470754852)"
      ]
     },
     "execution_count": 8,
     "metadata": {},
     "output_type": "execute_result"
    }
   ],
   "source": [
    "import scipy.stats as stats\n",
    "\n",
    "stats.ttest_1samp(a=X, popmean=2.75)"
   ]
  },
  {
   "cell_type": "markdown",
   "id": "407dcc70",
   "metadata": {
    "_cell_guid": "edd29015-478d-48a7-9b8b-b010784be67d",
    "_uuid": "bbe692d06f40cb157187026a4a4f3c9933631c72",
    "papermill": {
     "duration": 0.018941,
     "end_time": "2022-04-28T06:13:14.695260",
     "exception": false,
     "start_time": "2022-04-28T06:13:14.676319",
     "status": "completed"
    },
    "tags": []
   },
   "source": [
    "## Conclusion\n",
    "\n",
    "Hypothesis testing is used extensively in the literature because it is a relatively simple and powerful tool for *making decisions*. Hypothesis testing allows us to state what level of confidence we want to have in some observation about our data, then, in testing that observation, determine whether or not we are satisfied that it is correct.\n",
    "\n",
    "Another way of making this decision is to make it into a chart. For example, we could have randomly recomputed the mean of an increasing number of values in the dataset, and used that to determine how confident we are in our result. So for example, we'll take the mean of a single sample from the dataset; then the mean of two samples from the dataset; then three, and so on. Here's how that would look:"
   ]
  },
  {
   "cell_type": "code",
   "execution_count": 9,
   "id": "ea07ce61",
   "metadata": {
    "_cell_guid": "c649c533-1ccd-4461-91b7-d47abe1ca18e",
    "_uuid": "5b22bd5219179bf9c03133ae7e2a3ddbfcb1ab65",
    "execution": {
     "iopub.execute_input": "2022-04-28T06:13:14.738485Z",
     "iopub.status.busy": "2022-04-28T06:13:14.737502Z",
     "iopub.status.idle": "2022-04-28T06:13:15.013444Z",
     "shell.execute_reply": "2022-04-28T06:13:15.012664Z",
     "shell.execute_reply.started": "2022-04-28T06:10:10.290826Z"
    },
    "papermill": {
     "duration": 0.298416,
     "end_time": "2022-04-28T06:13:15.013626",
     "exception": false,
     "start_time": "2022-04-28T06:13:14.715210",
     "status": "completed"
    },
    "tags": []
   },
   "outputs": [
    {
     "data": {
      "text/plain": [
       "<AxesSubplot:>"
      ]
     },
     "execution_count": 9,
     "metadata": {},
     "output_type": "execute_result"
    },
    {
     "data": {
      "image/png": "[encoded data removed]",
      "text/plain": [
       "<Figure size 864x288 with 1 Axes>"
      ]
     },
     "metadata": {},
     "output_type": "display_data"
    }
   ],
   "source": [
    "r = (licensees['Premise Zip Code']\n",
    "         .value_counts()\n",
    "         .sample(len(licensees['Premise Zip Code'].unique()) - 1))\n",
    "pd.Series(r.cumsum() / np.array(range(1, len(r) + 1))).reset_index(drop=True).plot.line(\n",
    "    figsize=(12, 4), linewidth=1\n",
    ")"
   ]
  },
  {
   "cell_type": "markdown",
   "id": "3e41a8f3",
   "metadata": {
    "_cell_guid": "316ebe95-7c38-45a4-acae-e61d32b95834",
    "_uuid": "ebc13830f30831cc3b5ca4f5a4e782e5b3e6a9b3",
    "papermill": {
     "duration": 0.020313,
     "end_time": "2022-04-28T06:13:15.056062",
     "exception": false,
     "start_time": "2022-04-28T06:13:15.035749",
     "status": "completed"
    },
    "tags": []
   },
   "source": [
    "As you can see, the mean of our values stabilizes on the \"true\" value over time. No matter the amount of variance at the beginning of the distribution, by the end we have a very good idea that the real result is approximately 2.75.\n",
    "\n",
    "Hypothesis testing is merely way of quantifying **how sure we are about this approximation**. It's important to do because a computer can't \"look\" at a graph; we mortals can, but we still need it too sometimes, because the graph is often times ambiguous, and sometimes we need to make a lot of decisions potentially very quickly without necessarily looking at all of the graphs.\n"
   ]
  },
  {
   "cell_type": "code",
   "execution_count": null,
   "id": "977e62cc",
   "metadata": {
    "papermill": {
     "duration": 0.020522,
     "end_time": "2022-04-28T06:13:15.097471",
     "exception": false,
     "start_time": "2022-04-28T06:13:15.076949",
     "status": "completed"
    },
    "tags": []
   },
   "outputs": [],
   "source": []
  }
 ],
 "metadata": {
  "kernelspec": {
   "display_name": "Python 3",
   "language": "python",
   "name": "python3"
  },
  "language_info": {
   "codemirror_mode": {
    "name": "ipython",
    "version": 3
   },
   "file_extension": ".py",
   "mimetype": "text/x-python",
   "name": "python",
   "nbconvert_exporter": "python",
   "pygments_lexer": "ipython3",
   "version": "3.7.12"
  },
  "papermill": {
   "default_parameters": {},
   "duration": 14.630357,
   "end_time": "2022-04-28T06:13:15.829206",
   "environment_variables": {},
   "exception": null,
   "input_path": "__notebook__.ipynb",
   "output_path": "__notebook__.ipynb",
   "parameters": {},
   "start_time": "2022-04-28T06:13:01.198849",
   "version": "2.3.3"
  }
 },
 "nbformat": 4,
 "nbformat_minor": 5
}
